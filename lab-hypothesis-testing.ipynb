{
 "cells": [
  {
   "cell_type": "markdown",
   "metadata": {},
   "source": [
    "# Lab | Hypothesis Testing"
   ]
  },
  {
   "cell_type": "markdown",
   "metadata": {},
   "source": [
    "**Objective**\n",
    "\n",
    "Welcome to the Hypothesis Testing Lab, where we embark on an enlightening journey through the realm of statistical decision-making! In this laboratory, we delve into various scenarios, applying the powerful tools of hypothesis testing to scrutinize and interpret data.\n",
    "\n",
    "From testing the mean of a single sample (One Sample T-Test), to investigating differences between independent groups (Two Sample T-Test), and exploring relationships within dependent samples (Paired Sample T-Test), our exploration knows no bounds. Furthermore, we'll venture into the realm of Analysis of Variance (ANOVA), unraveling the complexities of comparing means across multiple groups.\n",
    "\n",
    "So, grab your statistical tools, prepare your hypotheses, and let's embark on this fascinating journey of exploration and discovery in the world of hypothesis testing!"
   ]
  },
  {
   "cell_type": "markdown",
   "metadata": {},
   "source": [
    "**Challenge 1**"
   ]
  },
  {
   "cell_type": "markdown",
   "metadata": {},
   "source": [
    "In this challenge, we will be working with pokemon data. The data can be found here:\n",
    "\n",
    "- https://raw.githubusercontent.com/data-bootcamp-v4/data/main/pokemon.csv"
   ]
  },
  {
   "cell_type": "markdown",
   "metadata": {},
   "source": [
    "- We posit that Pokemons of type Dragon have, on average, more HP stats than Grass. Choose the propper test and, with 5% significance, comment your findings."
   ]
  },
  {
   "cell_type": "code",
   "execution_count": 7,
   "metadata": {},
   "outputs": [
    {
     "name": "stdout",
     "output_type": "stream",
     "text": [
      "            Name Type 1  Type 2  HP  Attack  Defense  Sp. Atk  Sp. Def  Speed  \\\n",
      "0      Bulbasaur  Grass  Poison  45      49       49       65       65     45   \n",
      "1        Ivysaur  Grass  Poison  60      62       63       80       80     60   \n",
      "2       Venusaur  Grass  Poison  80      82       83      100      100     80   \n",
      "3  Mega Venusaur  Grass  Poison  80     100      123      122      120     80   \n",
      "4     Charmander   Fire     NaN  39      52       43       60       50     65   \n",
      "\n",
      "   Generation  Legendary  \n",
      "0           1      False  \n",
      "1           1      False  \n",
      "2           1      False  \n",
      "3           1      False  \n",
      "4           1      False  \n",
      "TtestResult(statistic=4.097528915272702, pvalue=0.00010181538122353851, df=77.58086781513519)\n",
      "Reject the null hypothesis, Dragon Pokemon have a higher average HP than Grass Pokemon.\n"
     ]
    }
   ],
   "source": [
    "import pandas as pd\n",
    "import scipy.stats as st\n",
    "import numpy as np\n",
    "\n",
    "df = pd.read_csv(\"https://raw.githubusercontent.com/data-bootcamp-v4/data/main/pokemon.csv\")\n",
    "print(df.head())\n",
    "\n",
    "#H0: Dragon Pokemon have a higher average HP than Grass Pokemon\n",
    "#H1: Dragon Pokemon have a lower average HP than Grass Pokemon\n",
    "\n",
    "import pandas as pd\n",
    "from scipy.stats import ttest_ind\n",
    "\n",
    "dragon_hp = df[(df[\"Type 1\"] == \"Dragon\") | (df[\"Type 2\"] == \"Dragon\")][\"HP\"]\n",
    "grass_hp = df[(df[\"Type 1\"] == \"Grass\") | (df[\"Type 2\"] == \"Grass\")][\"HP\"]\n",
    "\n",
    "t_test = st.ttest_ind(dragon_hp, grass_hp, equal_var=False)\n",
    "print(t_test)\n",
    "\n",
    "alpha = 0.05\n",
    "if t_test.pvalue < alpha:\n",
    "   print(f\"Reject the null hypothesis, Dragon Pokemon have a higher average HP than Grass Pokemon.\")\n",
    "else:\n",
    "    print(f\"Fail to reject the null hypothesis: No significant difference in average HP.\")"
   ]
  },
  {
   "cell_type": "markdown",
   "metadata": {},
   "source": [
    "- We posit that Legendary Pokemons have different stats (HP, Attack, Defense, Sp.Atk, Sp.Def, Speed) when comparing with Non-Legendary. Choose the propper test and, with 5% significance, comment your findings.\n"
   ]
  },
  {
   "cell_type": "code",
   "execution_count": 21,
   "metadata": {},
   "outputs": [
    {
     "name": "stdout",
     "output_type": "stream",
     "text": [
      "TtestResult(statistic=11.47504444631443, pvalue=1.049016311882451e-18, df=81.62110995711882)\n",
      "Reject the null hypothesis there is a statistically significant difference in Speed between Legendary and non legendary Pokemon.\n"
     ]
    }
   ],
   "source": [
    "#Set the hypothesis\n",
    "\n",
    "#H0: Pokemons have different stats (HP, Attack, Defense, Sp.Atk, Sp.Def, Speed) when comparing with Non-Legendary.\n",
    "#H1: Pokemons does not have different stats (HP, Attack, Defense, Sp.Atk, Sp.Def, Speed) when comparing with Non-Legendary.\n",
    "\n",
    "stats = ['HP','Attack','Defense','Sp. Atk','Sp. Def','Speed']\n",
    "\n",
    "legendary_pokemons = df[df[\"Legendary\"] == True]\n",
    "nonlegendary_pokemons = df[df[\"Legendary\"] == False]\n",
    "\n",
    "for stat in stats:\n",
    "    legendary_df = legendary_pokemons[stat]\n",
    "    non_legendary_df = nonlegendary_pokemons[stat]\n",
    "\n",
    "t_test = st.ttest_ind(legendary_df, non_legendary_df, equal_var=False)\n",
    "print(t_test)\n",
    "\n",
    "alpha = 0.05\n",
    "if t_test.pvalue < alpha:\n",
    "   print(f\"Reject the null hypothesis there is a statistically significant difference in {stat} between Legendary and non legendary Pokemon.\")\n",
    "else:\n",
    "    print(f\"Fail to reject the null hypothesis there is no statistically significant difference in {stat} between Legendary and non legendary Pokemon.\")"
   ]
  },
  {
   "cell_type": "markdown",
   "metadata": {},
   "source": [
    "**Challenge 2**"
   ]
  },
  {
   "cell_type": "markdown",
   "metadata": {},
   "source": [
    "In this challenge, we will be working with california-housing data. The data can be found here:\n",
    "- https://raw.githubusercontent.com/data-bootcamp-v4/data/main/california_housing.csv"
   ]
  },
  {
   "cell_type": "code",
   "execution_count": 174,
   "metadata": {},
   "outputs": [
    {
     "data": {
      "text/html": [
       "<div>\n",
       "<style scoped>\n",
       "    .dataframe tbody tr th:only-of-type {\n",
       "        vertical-align: middle;\n",
       "    }\n",
       "\n",
       "    .dataframe tbody tr th {\n",
       "        vertical-align: top;\n",
       "    }\n",
       "\n",
       "    .dataframe thead th {\n",
       "        text-align: right;\n",
       "    }\n",
       "</style>\n",
       "<table border=\"1\" class=\"dataframe\">\n",
       "  <thead>\n",
       "    <tr style=\"text-align: right;\">\n",
       "      <th></th>\n",
       "      <th>longitude</th>\n",
       "      <th>latitude</th>\n",
       "      <th>housing_median_age</th>\n",
       "      <th>total_rooms</th>\n",
       "      <th>total_bedrooms</th>\n",
       "      <th>population</th>\n",
       "      <th>households</th>\n",
       "      <th>median_income</th>\n",
       "      <th>median_house_value</th>\n",
       "    </tr>\n",
       "  </thead>\n",
       "  <tbody>\n",
       "    <tr>\n",
       "      <th>0</th>\n",
       "      <td>-114.31</td>\n",
       "      <td>34.19</td>\n",
       "      <td>15.0</td>\n",
       "      <td>5612.0</td>\n",
       "      <td>1283.0</td>\n",
       "      <td>1015.0</td>\n",
       "      <td>472.0</td>\n",
       "      <td>1.4936</td>\n",
       "      <td>66900.0</td>\n",
       "    </tr>\n",
       "    <tr>\n",
       "      <th>1</th>\n",
       "      <td>-114.47</td>\n",
       "      <td>34.40</td>\n",
       "      <td>19.0</td>\n",
       "      <td>7650.0</td>\n",
       "      <td>1901.0</td>\n",
       "      <td>1129.0</td>\n",
       "      <td>463.0</td>\n",
       "      <td>1.8200</td>\n",
       "      <td>80100.0</td>\n",
       "    </tr>\n",
       "    <tr>\n",
       "      <th>2</th>\n",
       "      <td>-114.56</td>\n",
       "      <td>33.69</td>\n",
       "      <td>17.0</td>\n",
       "      <td>720.0</td>\n",
       "      <td>174.0</td>\n",
       "      <td>333.0</td>\n",
       "      <td>117.0</td>\n",
       "      <td>1.6509</td>\n",
       "      <td>85700.0</td>\n",
       "    </tr>\n",
       "    <tr>\n",
       "      <th>3</th>\n",
       "      <td>-114.57</td>\n",
       "      <td>33.64</td>\n",
       "      <td>14.0</td>\n",
       "      <td>1501.0</td>\n",
       "      <td>337.0</td>\n",
       "      <td>515.0</td>\n",
       "      <td>226.0</td>\n",
       "      <td>3.1917</td>\n",
       "      <td>73400.0</td>\n",
       "    </tr>\n",
       "    <tr>\n",
       "      <th>4</th>\n",
       "      <td>-114.57</td>\n",
       "      <td>33.57</td>\n",
       "      <td>20.0</td>\n",
       "      <td>1454.0</td>\n",
       "      <td>326.0</td>\n",
       "      <td>624.0</td>\n",
       "      <td>262.0</td>\n",
       "      <td>1.9250</td>\n",
       "      <td>65500.0</td>\n",
       "    </tr>\n",
       "  </tbody>\n",
       "</table>\n",
       "</div>"
      ],
      "text/plain": [
       "   longitude  latitude  housing_median_age  total_rooms  total_bedrooms  \\\n",
       "0    -114.31     34.19                15.0       5612.0          1283.0   \n",
       "1    -114.47     34.40                19.0       7650.0          1901.0   \n",
       "2    -114.56     33.69                17.0        720.0           174.0   \n",
       "3    -114.57     33.64                14.0       1501.0           337.0   \n",
       "4    -114.57     33.57                20.0       1454.0           326.0   \n",
       "\n",
       "   population  households  median_income  median_house_value  \n",
       "0      1015.0       472.0         1.4936             66900.0  \n",
       "1      1129.0       463.0         1.8200             80100.0  \n",
       "2       333.0       117.0         1.6509             85700.0  \n",
       "3       515.0       226.0         3.1917             73400.0  \n",
       "4       624.0       262.0         1.9250             65500.0  "
      ]
     },
     "execution_count": 174,
     "metadata": {},
     "output_type": "execute_result"
    }
   ],
   "source": [
    "df = pd.read_csv(\"https://raw.githubusercontent.com/data-bootcamp-v4/data/main/california_housing.csv\")\n",
    "df.head()"
   ]
  },
  {
   "cell_type": "markdown",
   "metadata": {},
   "source": [
    "**We posit that houses close to either a school or a hospital are more expensive.**\n",
    "\n",
    "- School coordinates (-118, 37)\n",
    "- Hospital coordinates (-122, 34)\n",
    "\n",
    "We consider a house (neighborhood) to be close to a school or hospital if the distance is lower than 0.50.\n",
    "\n",
    "Hint:\n",
    "- Write a function to calculate euclidean distance from each house (neighborhood) to the school and to the hospital.\n",
    "- Divide your dataset into houses close and far from either a hospital or school.\n",
    "- Choose the propper test and, with 5% significance, comment your findings.\n",
    " "
   ]
  },
  {
   "cell_type": "code",
   "execution_count": 185,
   "metadata": {},
   "outputs": [
    {
     "data": {
      "text/plain": [
       "dtype('float64')"
      ]
     },
     "execution_count": 185,
     "metadata": {},
     "output_type": "execute_result"
    }
   ],
   "source": [
    "df[\"longitude\"].dtype"
   ]
  },
  {
   "cell_type": "code",
   "execution_count": 202,
   "metadata": {},
   "outputs": [
    {
     "name": "stdout",
     "output_type": "stream",
     "text": [
      "      longitude  latitude  housing_median_age  total_rooms  total_bedrooms  \\\n",
      "7577    -118.37     36.19                10.0        443.0           111.0   \n",
      "7578    -118.37     34.43                11.0      17339.0          2866.0   \n",
      "7579    -118.37     34.24                40.0       1283.0           246.0   \n",
      "7580    -118.37     34.23                32.0       1444.0           317.0   \n",
      "7581    -118.37     34.22                17.0       1787.0           463.0   \n",
      "...         ...       ...                 ...          ...             ...   \n",
      "7683    -118.37     33.81                36.0       2031.0           339.0   \n",
      "7684    -118.37     33.81                36.0       1283.0           209.0   \n",
      "7685    -118.37     33.81                33.0       5057.0           790.0   \n",
      "7686    -118.37     33.79                36.0       1596.0           234.0   \n",
      "7687    -118.37     33.77                26.0       6339.0           876.0   \n",
      "\n",
      "      population  households  median_income  median_house_value  \n",
      "7577        48.0        21.0         3.1250             71300.0  \n",
      "7578      8721.0      2803.0         5.9507            225200.0  \n",
      "7579       594.0       236.0         4.1121            229200.0  \n",
      "7580      1177.0       311.0         3.6000            164600.0  \n",
      "7581      1671.0       448.0         3.5521            151500.0  \n",
      "...          ...         ...            ...                 ...  \n",
      "7683       817.0       337.0         5.1271            458300.0  \n",
      "7684       563.0       209.0         6.9296            500001.0  \n",
      "7685      2021.0       748.0         6.8553            482200.0  \n",
      "7686       654.0       223.0         8.2064            500001.0  \n",
      "7687      2540.0       880.0        10.1447            500001.0  \n",
      "\n",
      "[111 rows x 9 columns]\n",
      "       longitude  latitude  housing_median_age  total_rooms  total_bedrooms  \\\n",
      "15553    -122.34     41.21                26.0        178.0            40.0   \n",
      "15554    -122.34     41.06                33.0       2149.0           498.0   \n",
      "15555    -122.34     40.63                10.0       2183.0           369.0   \n",
      "15556    -122.34     40.58                 7.0       4843.0           992.0   \n",
      "15557    -122.34     40.57                26.0       2187.0           472.0   \n",
      "15558    -122.34     40.57                24.0       1610.0           307.0   \n",
      "15559    -122.34     40.51                16.0       2247.0           502.0   \n",
      "15560    -122.34     40.32                12.0       3848.0           689.0   \n",
      "15561    -122.34     37.99                42.0       1531.0           326.0   \n",
      "15562    -122.34     37.98                33.0       2014.0           410.0   \n",
      "15563    -122.34     37.96                33.0       1817.0           441.0   \n",
      "15564    -122.34     37.96                15.0       6487.0          1717.0   \n",
      "15565    -122.34     37.95                44.0       1788.0           368.0   \n",
      "15566    -122.34     37.95                44.0       1675.0           317.0   \n",
      "15567    -122.34     37.95                39.0       1986.0           427.0   \n",
      "15568    -122.34     37.95                38.0       1340.0           298.0   \n",
      "15569    -122.34     37.94                47.0       2313.0           433.0   \n",
      "15570    -122.34     37.94                44.0       1917.0           444.0   \n",
      "15571    -122.34     37.94                42.0       2206.0           451.0   \n",
      "15572    -122.34     37.94                31.0       1611.0           455.0   \n",
      "15573    -122.34     37.93                45.0       2225.0           486.0   \n",
      "15574    -122.34     37.93                32.0       2389.0           652.0   \n",
      "15575    -122.34     37.93                30.0       2515.0           481.0   \n",
      "15576    -122.34     37.88                37.0       3061.0           930.0   \n",
      "15577    -122.34     37.59                44.0       1395.0           269.0   \n",
      "15578    -122.34     37.58                50.0       2784.0           743.0   \n",
      "15579    -122.34     37.57                52.0       2635.0           408.0   \n",
      "15580    -122.34     37.57                52.0       2547.0           373.0   \n",
      "15581    -122.34     37.57                39.0       2647.0           616.0   \n",
      "15582    -122.34     37.57                28.0       3751.0           949.0   \n",
      "15583    -122.34     37.55                44.0       2465.0           328.0   \n",
      "15584    -122.34     37.55                25.0       4470.0           518.0   \n",
      "15585    -122.34     37.53                27.0       3339.0           481.0   \n",
      "15586    -122.34     37.52                34.0       3559.0           560.0   \n",
      "15587    -122.34     37.46                21.0       1799.0           293.0   \n",
      "\n",
      "       population  households  median_income  median_house_value  \n",
      "15553        55.0        25.0         2.0375             57500.0  \n",
      "15554       631.0       273.0         1.8816             65800.0  \n",
      "15555      1061.0       325.0         3.6853            151600.0  \n",
      "15556      2223.0       932.0         3.0549            101700.0  \n",
      "15557      1339.0       463.0         2.0395             67900.0  \n",
      "15558       748.0       307.0         2.6591             82800.0  \n",
      "15559      1206.0       463.0         1.9946            119200.0  \n",
      "15560      2008.0       683.0         2.6352             92200.0  \n",
      "15561      1271.0       377.0         2.6167             85100.0  \n",
      "15562      1354.0       427.0         3.9773            131300.0  \n",
      "15563      1220.0       389.0         2.5382            103600.0  \n",
      "15564      3408.0      1560.0         2.1991            133300.0  \n",
      "15565       933.0       329.0         2.8750            133400.0  \n",
      "15566       806.0       311.0         3.0694            135300.0  \n",
      "15567      1041.0       385.0         3.2333            135100.0  \n",
      "15568       766.0       241.0         3.2833            111700.0  \n",
      "15569       947.0       430.0         3.9420            143300.0  \n",
      "15570       936.0       435.0         2.7391            140300.0  \n",
      "15571       989.0       444.0         3.1250            143900.0  \n",
      "15572       786.0       411.0         1.6810            145500.0  \n",
      "15573      1304.0       459.0         2.6400            112100.0  \n",
      "15574      1672.0       584.0         1.4423             88300.0  \n",
      "15575      1327.0       428.0         2.1287             95000.0  \n",
      "15576      2556.0       924.0         1.7375            350000.0  \n",
      "15577       736.0       288.0         5.6206            386400.0  \n",
      "15578      1622.0       698.0         3.8413            372200.0  \n",
      "15579       967.0       374.0         7.0422            500001.0  \n",
      "15580       876.0       359.0         8.2598            500001.0  \n",
      "15581      1254.0       555.0         4.2407            433800.0  \n",
      "15582      1691.0       846.0         3.9728            300000.0  \n",
      "15583       843.0       324.0         6.9533            500001.0  \n",
      "15584      1507.0       504.0        13.3913            500001.0  \n",
      "15585      1354.0       458.0         7.3081            464600.0  \n",
      "15586      1747.0       550.0         6.6959            411200.0  \n",
      "15587       576.0       277.0         7.4390            500001.0  \n",
      "TtestResult(statistic=array([ 1.42372091e+15, -2.06565124e+01, -3.21761053e-01, -1.78496380e-01,\n",
      "        5.51416045e-01,  1.10933768e-02,  6.52119118e-01,  8.53028701e-01,\n",
      "        2.78117721e+00]), pvalue=array([0.00000000e+00, 4.02894915e-21, 7.48842139e-01, 8.58677770e-01,\n",
      "       5.82691152e-01, 9.91172111e-01, 5.15945743e-01, 3.98179261e-01,\n",
      "       7.90896380e-03]), df=array([ 56.59520807,  34.81621377,  55.51591898, 104.79780341,\n",
      "        91.59930726,  95.408922  ,  92.2591964 ,  44.81918867,\n",
      "        44.56508495]))\n"
     ]
    },
    {
     "name": "stderr",
     "output_type": "stream",
     "text": [
      "/opt/anaconda3/lib/python3.12/site-packages/scipy/stats/_axis_nan_policy.py:563: RuntimeWarning: Precision loss occurred in moment calculation due to catastrophic cancellation. This occurs when the data are nearly identical. Results may be unreliable.\n",
      "  res = hypotest_fun_out(*samples, axis=axis, **kwds)\n"
     ]
    }
   ],
   "source": [
    "#Set the hypothesis\n",
    "\n",
    "#H0: houses close to either a school/hospital are more expensive\n",
    "#H1: houses close to either a school/hospital are not so expensive\n",
    "\n",
    "import pandas as pd\n",
    "import numpy as np\n",
    "from scipy import stats\n",
    "\n",
    "df = pd.read_csv(\"https://raw.githubusercontent.com/data-bootcamp-v4/data/main/california_housing.csv\")\n",
    "\n",
    "school_coordinates = (-118, 37)\n",
    "hospital_coordinates = (-122, 34)\n",
    "\n",
    "def calculate_distance(lon, lat, coords):\n",
    "    return np.sqrt((lon - coords[0])**2 + (lat - coords[1])**2)\n",
    "\n",
    "df['distance_to_school'] = df.apply(lambda row: calculate_distance(row['longitude'], row['latitude'], school_coordinates), axis=1)\n",
    "df['distance_to_hospital'] = df.apply(lambda row: calculate_distance(row['longitude'], row['latitude'], hospital_coordinates), axis=1)\n",
    "\n",
    "df['close_to_school_or_hospital'] = df[['distance_to_school', 'distance_to_hospital']].min(axis=1) < 0.50\n",
    "\n",
    "close_houses = df[df['close_to_school_or_hospital']]\n",
    "far_houses = df[~df['close_to_school_or_hospital']]\n",
    "\n",
    "# Two Sample T Test\n",
    "t_stat, p_value = stats.ttest_ind(close_houses['median_house_value'], far_houses['median_house_value'], equal_var=False)\n",
    "\n",
    "print(\"T-Statistic:\", t_stat, \"P-Value:\", p_value)\n",
    "\n",
    "alpha = 0.05\n",
    "if p_value < alpha:\n",
    "    print(\"Reject the null hypothesis: Houses close to a school or hospital are more expensive.\")\n",
    "else:\n",
    "    print(\"Fail to reject the null hypothesis: No significant difference in house prices.\")\n"
   ]
  }
 ],
 "metadata": {
  "kernelspec": {
   "display_name": "Python 3 (ipykernel)",
   "language": "python",
   "name": "python3"
  },
  "language_info": {
   "codemirror_mode": {
    "name": "ipython",
    "version": 3
   },
   "file_extension": ".py",
   "mimetype": "text/x-python",
   "name": "python",
   "nbconvert_exporter": "python",
   "pygments_lexer": "ipython3",
   "version": "3.12.4"
  }
 },
 "nbformat": 4,
 "nbformat_minor": 4
}
